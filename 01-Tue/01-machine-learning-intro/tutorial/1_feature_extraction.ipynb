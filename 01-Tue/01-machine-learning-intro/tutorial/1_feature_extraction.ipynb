{
 "cells": [
  {
   "cell_type": "markdown",
   "metadata": {
    "id": "YNHffG8zy7vN"
   },
   "source": [
    "## Whale Sound Exploration\n",
    "\n",
    "In this tutorial we will explore some data which contain right whale up-calls. The dataset was shared as part of a [2013 Kaggle competition](https://www.kaggle.com/c/whale-detection-challenge). Our goal is not to show the best winning algorithm to detect a call, but share a simple pipeline for processing oscillatory data, which possibly can be used on wide range of time series.\n",
    "\n",
    "Objectives:\n",
    "* read and extract features form audio data\n",
    "* apply dimensionality reduction techiques\n",
    "* perform supervised classification\n",
    "* learn how to evaluate machine learning models\n",
    "* train a neural network to detect whale calls"
   ]
  },
  {
   "cell_type": "markdown",
   "metadata": {
    "id": "EFr8DD6wy7vP"
   },
   "source": [
    "### Data Loading and Exploration\n",
    "---"
   ]
  },
  {
   "cell_type": "code",
   "execution_count": 1,
   "metadata": {
    "id": "iLLMU3Ady7vU"
   },
   "outputs": [],
   "source": [
    "# ignore warnings\n",
    "import warnings\n",
    "warnings.filterwarnings(\"ignore\")"
   ]
  },
  {
   "cell_type": "code",
   "execution_count": 2,
   "metadata": {
    "id": "phgB8Lxiy7vY"
   },
   "outputs": [],
   "source": [
    "# importing multiple visualization libraries\n",
    "%matplotlib inline\n",
    "import matplotlib.pyplot as plt\n",
    "from matplotlib import mlab\n",
    "import pylab as pl\n",
    "import seaborn"
   ]
  },
  {
   "cell_type": "code",
   "execution_count": 3,
   "metadata": {
    "id": "n4Knb6tXy7vc"
   },
   "outputs": [],
   "source": [
    "# importing libraries to manipulate the data files\n",
    "import os\n",
    "from glob import glob"
   ]
  },
  {
   "cell_type": "code",
   "execution_count": 4,
   "metadata": {
    "id": "sra6ezOzy7vg"
   },
   "outputs": [],
   "source": [
    "# importing scientific python packages\n",
    "import numpy as np"
   ]
  },
  {
   "cell_type": "code",
   "execution_count": 5,
   "metadata": {
    "id": "5R_3aBysy7vj"
   },
   "outputs": [],
   "source": [
    "# import a library to read the .aiff format\n",
    "import aifc"
   ]
  },
  {
   "cell_type": "markdown",
   "metadata": {
    "id": "HVPkBpuLy7vn"
   },
   "source": [
    "The `train` folder contains many `.aiff` files (2 second snippets) and we have `.csv` document which contains the corresponding labels. "
   ]
  },
  {
   "cell_type": "code",
   "execution_count": 6,
   "metadata": {
    "colab": {
     "base_uri": "https://localhost:8080/"
    },
    "id": "pDElDTqvJ5Dn",
    "outputId": "54f86b7d-cc4c-4f6e-e2f5-5cf52b88d7a0"
   },
   "outputs": [
    {
     "name": "stdout",
     "output_type": "stream",
     "text": [
      "Defaulting to user installation because normal site-packages is not writeable\n",
      "Requirement already satisfied: gdown in /home/jovyan/.local/lib/python3.9/site-packages (4.5.1)\n",
      "Requirement already satisfied: beautifulsoup4 in /opt/conda/lib/python3.9/site-packages (from gdown) (4.11.1)\n",
      "Requirement already satisfied: tqdm in /opt/conda/lib/python3.9/site-packages (from gdown) (4.64.0)\n",
      "Requirement already satisfied: six in /opt/conda/lib/python3.9/site-packages (from gdown) (1.16.0)\n",
      "Requirement already satisfied: requests[socks] in /opt/conda/lib/python3.9/site-packages (from gdown) (2.28.1)\n",
      "Requirement already satisfied: filelock in /opt/conda/lib/python3.9/site-packages (from gdown) (3.8.0)\n",
      "Requirement already satisfied: soupsieve>1.2 in /opt/conda/lib/python3.9/site-packages (from beautifulsoup4->gdown) (2.3.2.post1)\n",
      "Requirement already satisfied: urllib3<1.27,>=1.21.1 in /opt/conda/lib/python3.9/site-packages (from requests[socks]->gdown) (1.26.11)\n",
      "Requirement already satisfied: idna<4,>=2.5 in /opt/conda/lib/python3.9/site-packages (from requests[socks]->gdown) (3.3)\n",
      "Requirement already satisfied: certifi>=2017.4.17 in /opt/conda/lib/python3.9/site-packages (from requests[socks]->gdown) (2022.6.15)\n",
      "Requirement already satisfied: charset-normalizer<3,>=2 in /opt/conda/lib/python3.9/site-packages (from requests[socks]->gdown) (2.1.0)\n",
      "Requirement already satisfied: PySocks!=1.5.7,>=1.5.6 in /opt/conda/lib/python3.9/site-packages (from requests[socks]->gdown) (1.7.1)\n",
      "Note: you may need to restart the kernel to use updated packages.\n"
     ]
    }
   ],
   "source": [
    "pip install gdown"
   ]
  },
  {
   "cell_type": "code",
   "execution_count": 7,
   "metadata": {
    "colab": {
     "base_uri": "https://localhost:8080/",
     "height": 104
    },
    "id": "dbkbBgjLLq2v",
    "outputId": "1ac0600e-4a6a-49ba-fbba-3ad21fa1c8fd"
   },
   "outputs": [
    {
     "name": "stderr",
     "output_type": "stream",
     "text": [
      "Downloading...\n",
      "From: https://drive.google.com/uc?id=1X4b6ArGJvbWFfe0c7eFGTS0umC2Dns-p\n",
      "To: /home/jovyan/ohw-tutorials/01-Tue/01-machine-learning-intro/tutorial/train.tar.gz\n",
      "100%|██████████| 64.2M/64.2M [00:00<00:00, 182MB/s] \n"
     ]
    },
    {
     "data": {
      "text/plain": [
       "'train.tar.gz'"
      ]
     },
     "execution_count": 7,
     "metadata": {},
     "output_type": "execute_result"
    }
   ],
   "source": [
    "import gdown\n",
    "gdown.download(id=\"1X4b6ArGJvbWFfe0c7eFGTS0umC2Dns-p\")\n"
   ]
  },
  {
   "cell_type": "code",
   "execution_count": 8,
   "metadata": {
    "colab": {
     "base_uri": "https://localhost:8080/",
     "height": 104
    },
    "id": "rHvRLfHkOWtc",
    "outputId": "93465ebf-440c-45ff-9b76-3eedf14b2465"
   },
   "outputs": [
    {
     "name": "stderr",
     "output_type": "stream",
     "text": [
      "Downloading...\n",
      "From: https://drive.google.com/uc?id=1reml8qESFeS4buc_h3wfF9O4M2p30g3e\n",
      "To: /home/jovyan/ohw-tutorials/01-Tue/01-machine-learning-intro/tutorial/labels.csv\n",
      "100%|██████████| 540k/540k [00:00<00:00, 103MB/s]\n"
     ]
    },
    {
     "data": {
      "text/plain": [
       "'labels.csv'"
      ]
     },
     "execution_count": 8,
     "metadata": {},
     "output_type": "execute_result"
    }
   ],
   "source": [
    "gdown.download(id=\"1reml8qESFeS4buc_h3wfF9O4M2p30g3e\", quiet=False)"
   ]
  },
  {
   "cell_type": "code",
   "execution_count": 9,
   "metadata": {
    "colab": {
     "base_uri": "https://localhost:8080/"
    },
    "id": "Tn51PspH4uEZ",
    "outputId": "52633abd-ec57-4593-db4e-fdf29b56d9e0"
   },
   "outputs": [],
   "source": [
    "# this will take some time (use xvzf to see progress)\n",
    "!tar xzf train.tar.gz"
   ]
  },
  {
   "cell_type": "code",
   "execution_count": 10,
   "metadata": {
    "colab": {
     "base_uri": "https://localhost:8080/"
    },
    "id": "17Ntca5Jy7vr",
    "outputId": "77aaf348-88dc-4736-c5e2-7813649a972f"
   },
   "outputs": [
    {
     "name": "stdout",
     "output_type": "stream",
     "text": [
      "There are 9999 files.\n"
     ]
    }
   ],
   "source": [
    "# read the audio filenames\n",
    "filenames = sorted(glob(os.path.join('train','*.aiff')))\n",
    "print('There are '+str(len(filenames))+' files.' )"
   ]
  },
  {
   "cell_type": "code",
   "execution_count": 11,
   "metadata": {
    "id": "2mje_DSoy7vt"
   },
   "outputs": [],
   "source": [
    "# read the labels\n",
    "import pandas as pd\n",
    "labels = pd.read_csv(os.path.join('labels.csv'), index_col = 0)"
   ]
  },
  {
   "cell_type": "markdown",
   "metadata": {
    "id": "Y84tZ7yvy7vw"
   },
   "source": [
    "The format of the labels is:"
   ]
  },
  {
   "cell_type": "code",
   "execution_count": 12,
   "metadata": {
    "colab": {
     "base_uri": "https://localhost:8080/",
     "height": 394
    },
    "id": "siKEhN_9y7vx",
    "outputId": "2b5c76a8-04dc-4e2f-db5e-b669ca143a8f"
   },
   "outputs": [
    {
     "data": {
      "text/html": [
       "<div>\n",
       "<style scoped>\n",
       "    .dataframe tbody tr th:only-of-type {\n",
       "        vertical-align: middle;\n",
       "    }\n",
       "\n",
       "    .dataframe tbody tr th {\n",
       "        vertical-align: top;\n",
       "    }\n",
       "\n",
       "    .dataframe thead th {\n",
       "        text-align: right;\n",
       "    }\n",
       "</style>\n",
       "<table border=\"1\" class=\"dataframe\">\n",
       "  <thead>\n",
       "    <tr style=\"text-align: right;\">\n",
       "      <th></th>\n",
       "      <th>label</th>\n",
       "    </tr>\n",
       "    <tr>\n",
       "      <th>clip_name</th>\n",
       "      <th></th>\n",
       "    </tr>\n",
       "  </thead>\n",
       "  <tbody>\n",
       "    <tr>\n",
       "      <th>train00001.aiff</th>\n",
       "      <td>0</td>\n",
       "    </tr>\n",
       "    <tr>\n",
       "      <th>train00002.aiff</th>\n",
       "      <td>0</td>\n",
       "    </tr>\n",
       "    <tr>\n",
       "      <th>train00003.aiff</th>\n",
       "      <td>0</td>\n",
       "    </tr>\n",
       "    <tr>\n",
       "      <th>train00004.aiff</th>\n",
       "      <td>0</td>\n",
       "    </tr>\n",
       "    <tr>\n",
       "      <th>train00005.aiff</th>\n",
       "      <td>0</td>\n",
       "    </tr>\n",
       "    <tr>\n",
       "      <th>train00006.aiff</th>\n",
       "      <td>1</td>\n",
       "    </tr>\n",
       "    <tr>\n",
       "      <th>train00007.aiff</th>\n",
       "      <td>1</td>\n",
       "    </tr>\n",
       "    <tr>\n",
       "      <th>train00008.aiff</th>\n",
       "      <td>0</td>\n",
       "    </tr>\n",
       "    <tr>\n",
       "      <th>train00009.aiff</th>\n",
       "      <td>1</td>\n",
       "    </tr>\n",
       "    <tr>\n",
       "      <th>train00010.aiff</th>\n",
       "      <td>0</td>\n",
       "    </tr>\n",
       "  </tbody>\n",
       "</table>\n",
       "</div>"
      ],
      "text/plain": [
       "                 label\n",
       "clip_name             \n",
       "train00001.aiff      0\n",
       "train00002.aiff      0\n",
       "train00003.aiff      0\n",
       "train00004.aiff      0\n",
       "train00005.aiff      0\n",
       "train00006.aiff      1\n",
       "train00007.aiff      1\n",
       "train00008.aiff      0\n",
       "train00009.aiff      1\n",
       "train00010.aiff      0"
      ]
     },
     "execution_count": 12,
     "metadata": {},
     "output_type": "execute_result"
    }
   ],
   "source": [
    "labels.head(10)"
   ]
  },
  {
   "cell_type": "markdown",
   "metadata": {
    "id": "TlYoKd8hy7vz"
   },
   "source": [
    "Let's look at one of those files."
   ]
  },
  {
   "cell_type": "code",
   "execution_count": 13,
   "metadata": {
    "colab": {
     "base_uri": "https://localhost:8080/"
    },
    "id": "Y_t4wCqEy7v0",
    "outputId": "57f1641f-a0a2-4659-e272-285238971a53"
   },
   "outputs": [
    {
     "name": "stdout",
     "output_type": "stream",
     "text": [
      "Frames: 4000\n",
      "Frame rate (frames per second): 2000\n"
     ]
    }
   ],
   "source": [
    "# reading the file info\n",
    "whale_sample_file = 'train00006.aiff'\n",
    "whale_aiff = aifc.open(os.path.join('train',whale_sample_file),'r')\n",
    "print (\"Frames:\", whale_aiff.getnframes() )\n",
    "print (\"Frame rate (frames per second):\", whale_aiff.getframerate())"
   ]
  },
  {
   "cell_type": "code",
   "execution_count": 14,
   "metadata": {
    "colab": {
     "base_uri": "https://localhost:8080/",
     "height": 296
    },
    "id": "gaJ2XDaGy7v2",
    "outputId": "9a1a4255-711a-45fe-da47-d5831fb0cc5f"
   },
   "outputs": [
    {
     "data": {
      "text/plain": [
       "Text(0.5, 0, 'Frame number')"
      ]
     },
     "execution_count": 14,
     "metadata": {},
     "output_type": "execute_result"
    },
    {
     "data": {
      "image/png": "[encoded data removed]",
      "text/plain": [
       "<Figure size 432x288 with 1 Axes>"
      ]
     },
     "metadata": {
      "needs_background": "light"
     },
     "output_type": "display_data"
    }
   ],
   "source": [
    "# reading the data\n",
    "whale_strSig = whale_aiff.readframes(whale_aiff.getnframes())\n",
    "whale_array = np.fromstring(whale_strSig, np.short).byteswap()\n",
    "plt.plot(whale_array)\n",
    "plt.xlabel('Frame number')"
   ]
  },
  {
   "cell_type": "code",
   "execution_count": 15,
   "metadata": {
    "id": "IMtGVMY0y7v7"
   },
   "outputs": [],
   "source": [
    "signal = whale_array.astype('float64')"
   ]
  },
  {
   "cell_type": "code",
   "execution_count": 16,
   "metadata": {
    "id": "b18_9JN6y7v-"
   },
   "outputs": [],
   "source": [
    "# playing a whale upcall in the notebook\n",
    "from IPython.display import Audio\n",
    "# Audio(signal, rate=3000, autoplay = True)# the rate is set to 3000 make the widget to run (seems the widget does not run with rate below 3000)"
   ]
  },
  {
   "cell_type": "markdown",
   "metadata": {
    "id": "4SzTuSjjy7wA"
   },
   "source": [
    "Working directly with the signals is hard (there is important frequency information). Let's calculate the spectrograms for each of the signals and use as features."
   ]
  },
  {
   "cell_type": "code",
   "execution_count": 17,
   "metadata": {
    "id": "cjTDlmE4y7wB"
   },
   "outputs": [],
   "source": [
    "# a function for plotting spectrograms\n",
    "def PlotSpecgram(P, freqs, bins):\n",
    "    \"\"\"Spectrogram\"\"\"\n",
    "    Z = np.flipud(P) # flip rows so that top goes to bottom, bottom to top, etc.\n",
    "    xextent = 0, np.amax(bins)\n",
    "    xmin, xmax = xextent\n",
    "    extent = xmin, xmax, freqs[0], freqs[-1]\n",
    "    im = pl.imshow(Z, extent=extent,cmap = 'plasma')\n",
    "    pl.axis('auto')\n",
    "    pl.xlim([0.0, bins[-1]])\n",
    "    pl.ylim([0, freqs[-1]])"
   ]
  },
  {
   "cell_type": "code",
   "execution_count": 18,
   "metadata": {
    "colab": {
     "base_uri": "https://localhost:8080/",
     "height": 298
    },
    "id": "N5o3v8t_y7wD",
    "outputId": "89304549-6ac5-4f85-efce-6115f1eb1aa1"
   },
   "outputs": [
    {
     "data": {
      "text/plain": [
       "Text(0.5, 1.0, 'Spectrogram with an Upcall')"
      ]
     },
     "execution_count": 18,
     "metadata": {},
     "output_type": "execute_result"
    },
    {
     "data": {
      "image/png": "[encoded data removed]",
      "text/plain": [
       "<Figure size 432x288 with 1 Axes>"
      ]
     },
     "metadata": {
      "needs_background": "light"
     },
     "output_type": "display_data"
    }
   ],
   "source": [
    "params = {'NFFT':256, 'Fs':2000, 'noverlap':192}\n",
    "P, freqs, bins = mlab.specgram(whale_array, **params)\n",
    "PlotSpecgram(P, freqs, bins)\n",
    "plt.title('Spectrogram with an Upcall')"
   ]
  },
  {
   "cell_type": "markdown",
   "metadata": {
    "id": "dUZ9wigky7wF"
   },
   "source": [
    "### Feature Extraction\n",
    "---"
   ]
  },
  {
   "cell_type": "markdown",
   "metadata": {
    "id": "RJU6wlQ4y7wG"
   },
   "source": [
    "We will go through the files and extract the spectrograms from each of them. We will do it for the first N files."
   ]
  },
  {
   "cell_type": "code",
   "execution_count": 25,
   "metadata": {
    "id": "6u9WnA9zy7wG"
   },
   "outputs": [],
   "source": [
    "N = 10000 #number of files to use"
   ]
  },
  {
   "cell_type": "code",
   "execution_count": 26,
   "metadata": {
    "id": "bZzK7UAGy7wI"
   },
   "outputs": [],
   "source": [
    "# create a dictionary which contains all the spectrograms, labeled by the filename\n",
    "spec_dict = {}\n",
    "\n",
    "# threshold to cut higher frequencies\n",
    "m = 60\n",
    "\n",
    "# loop through all the files\n",
    "for filename in filenames[:N]:\n",
    "    # read the file\n",
    "    aiff = aifc.open(filename,'r')\n",
    "    whale_strSig = aiff.readframes(aiff.getnframes())\n",
    "    whale_array = np.fromstring(whale_strSig, np.short).byteswap()\n",
    "    # create the spectrogram\n",
    "    P, freqs, bins = mlab.specgram(whale_array, **params)\n",
    "    spec_dict[filename] = P[:m,:]\n",
    "\n",
    "# save the dimensions of the spectrogram\n",
    "spec_dim = P[:m,:].shape    "
   ]
  },
  {
   "cell_type": "code",
   "execution_count": null,
   "metadata": {
    "id": "AjOn7brHy7wL"
   },
   "outputs": [],
   "source": []
  },
  {
   "cell_type": "markdown",
   "metadata": {
    "id": "J5E2nLgNy7wP"
   },
   "source": [
    "Most machine learning algorithms in Python expect the data to come in a format **observations** x **features**. In order to get the data in this format we need to convert the two-dimensional spectrogram into a long vector. For that we will use the `ravel` function."
   ]
  },
  {
   "cell_type": "code",
   "execution_count": 27,
   "metadata": {
    "id": "ewDY8LKoy7wQ"
   },
   "outputs": [],
   "source": [
    "# We will put the data in a dictionary\n",
    "feature_dict = {}\n",
    "for key in filenames[:N]:\n",
    "    # vectorize the spectrogram\n",
    "    feature_dict[key.split('/')[-1]] = spec_dict[key].ravel()\n",
    "\n",
    "# convert to a pandas dataframe\n",
    "X = pd.DataFrame(feature_dict).T"
   ]
  },
  {
   "cell_type": "code",
   "execution_count": 28,
   "metadata": {
    "colab": {
     "base_uri": "https://localhost:8080/",
     "height": 299
    },
    "id": "MYpWxhsKy7wU",
    "outputId": "bb302775-98f8-41b4-a13d-91d79cffa7fc"
   },
   "outputs": [
    {
     "data": {
      "text/html": [
       "<div>\n",
       "<style scoped>\n",
       "    .dataframe tbody tr th:only-of-type {\n",
       "        vertical-align: middle;\n",
       "    }\n",
       "\n",
       "    .dataframe tbody tr th {\n",
       "        vertical-align: top;\n",
       "    }\n",
       "\n",
       "    .dataframe thead th {\n",
       "        text-align: right;\n",
       "    }\n",
       "</style>\n",
       "<table border=\"1\" class=\"dataframe\">\n",
       "  <thead>\n",
       "    <tr style=\"text-align: right;\">\n",
       "      <th></th>\n",
       "      <th>0</th>\n",
       "      <th>1</th>\n",
       "      <th>2</th>\n",
       "      <th>3</th>\n",
       "      <th>4</th>\n",
       "      <th>5</th>\n",
       "      <th>6</th>\n",
       "      <th>7</th>\n",
       "      <th>8</th>\n",
       "      <th>9</th>\n",
       "      <th>...</th>\n",
       "      <th>3530</th>\n",
       "      <th>3531</th>\n",
       "      <th>3532</th>\n",
       "      <th>3533</th>\n",
       "      <th>3534</th>\n",
       "      <th>3535</th>\n",
       "      <th>3536</th>\n",
       "      <th>3537</th>\n",
       "      <th>3538</th>\n",
       "      <th>3539</th>\n",
       "    </tr>\n",
       "  </thead>\n",
       "  <tbody>\n",
       "    <tr>\n",
       "      <th>train00001.aiff</th>\n",
       "      <td>0.133811</td>\n",
       "      <td>0.072258</td>\n",
       "      <td>0.109525</td>\n",
       "      <td>0.084067</td>\n",
       "      <td>0.139019</td>\n",
       "      <td>0.091778</td>\n",
       "      <td>0.259104</td>\n",
       "      <td>0.067828</td>\n",
       "      <td>0.111568</td>\n",
       "      <td>0.091280</td>\n",
       "      <td>...</td>\n",
       "      <td>323.757739</td>\n",
       "      <td>177.865058</td>\n",
       "      <td>69.035604</td>\n",
       "      <td>236.470513</td>\n",
       "      <td>95.348852</td>\n",
       "      <td>45.818186</td>\n",
       "      <td>62.494202</td>\n",
       "      <td>58.682033</td>\n",
       "      <td>27.582614</td>\n",
       "      <td>13.677962</td>\n",
       "    </tr>\n",
       "    <tr>\n",
       "      <th>train00002.aiff</th>\n",
       "      <td>0.020418</td>\n",
       "      <td>0.028692</td>\n",
       "      <td>0.106837</td>\n",
       "      <td>0.106685</td>\n",
       "      <td>0.101734</td>\n",
       "      <td>0.112110</td>\n",
       "      <td>0.104971</td>\n",
       "      <td>0.107934</td>\n",
       "      <td>0.113314</td>\n",
       "      <td>0.110579</td>\n",
       "      <td>...</td>\n",
       "      <td>13.960107</td>\n",
       "      <td>6.620344</td>\n",
       "      <td>1.826725</td>\n",
       "      <td>12.591117</td>\n",
       "      <td>23.735274</td>\n",
       "      <td>22.399912</td>\n",
       "      <td>9.117025</td>\n",
       "      <td>12.191837</td>\n",
       "      <td>16.824196</td>\n",
       "      <td>0.404101</td>\n",
       "    </tr>\n",
       "    <tr>\n",
       "      <th>train00003.aiff</th>\n",
       "      <td>0.094505</td>\n",
       "      <td>0.087168</td>\n",
       "      <td>0.093006</td>\n",
       "      <td>0.152327</td>\n",
       "      <td>0.131468</td>\n",
       "      <td>0.042501</td>\n",
       "      <td>0.053550</td>\n",
       "      <td>0.099153</td>\n",
       "      <td>0.097915</td>\n",
       "      <td>0.093418</td>\n",
       "      <td>...</td>\n",
       "      <td>25.414674</td>\n",
       "      <td>54.308283</td>\n",
       "      <td>50.471178</td>\n",
       "      <td>39.791219</td>\n",
       "      <td>20.454269</td>\n",
       "      <td>60.480539</td>\n",
       "      <td>150.188974</td>\n",
       "      <td>100.698584</td>\n",
       "      <td>27.933017</td>\n",
       "      <td>51.114037</td>\n",
       "    </tr>\n",
       "    <tr>\n",
       "      <th>train00004.aiff</th>\n",
       "      <td>0.046272</td>\n",
       "      <td>0.051663</td>\n",
       "      <td>0.085813</td>\n",
       "      <td>0.087076</td>\n",
       "      <td>0.097217</td>\n",
       "      <td>0.102125</td>\n",
       "      <td>0.102598</td>\n",
       "      <td>0.103876</td>\n",
       "      <td>0.099584</td>\n",
       "      <td>0.096484</td>\n",
       "      <td>...</td>\n",
       "      <td>127.593808</td>\n",
       "      <td>154.603321</td>\n",
       "      <td>189.184693</td>\n",
       "      <td>44.923291</td>\n",
       "      <td>0.157068</td>\n",
       "      <td>6.241901</td>\n",
       "      <td>35.208415</td>\n",
       "      <td>66.001433</td>\n",
       "      <td>2.440332</td>\n",
       "      <td>119.455716</td>\n",
       "    </tr>\n",
       "    <tr>\n",
       "      <th>train00005.aiff</th>\n",
       "      <td>0.107677</td>\n",
       "      <td>0.112647</td>\n",
       "      <td>0.106642</td>\n",
       "      <td>0.099382</td>\n",
       "      <td>0.092492</td>\n",
       "      <td>0.104994</td>\n",
       "      <td>0.163441</td>\n",
       "      <td>0.138776</td>\n",
       "      <td>0.047680</td>\n",
       "      <td>0.044006</td>\n",
       "      <td>...</td>\n",
       "      <td>818.349811</td>\n",
       "      <td>638.316169</td>\n",
       "      <td>255.905318</td>\n",
       "      <td>223.662617</td>\n",
       "      <td>167.522139</td>\n",
       "      <td>47.816370</td>\n",
       "      <td>2.397212</td>\n",
       "      <td>14.882543</td>\n",
       "      <td>99.071426</td>\n",
       "      <td>27.578218</td>\n",
       "    </tr>\n",
       "  </tbody>\n",
       "</table>\n",
       "<p>5 rows × 3540 columns</p>\n",
       "</div>"
      ],
      "text/plain": [
       "                     0         1         2         3         4         5     \\\n",
       "train00001.aiff  0.133811  0.072258  0.109525  0.084067  0.139019  0.091778   \n",
       "train00002.aiff  0.020418  0.028692  0.106837  0.106685  0.101734  0.112110   \n",
       "train00003.aiff  0.094505  0.087168  0.093006  0.152327  0.131468  0.042501   \n",
       "train00004.aiff  0.046272  0.051663  0.085813  0.087076  0.097217  0.102125   \n",
       "train00005.aiff  0.107677  0.112647  0.106642  0.099382  0.092492  0.104994   \n",
       "\n",
       "                     6         7         8         9     ...        3530  \\\n",
       "train00001.aiff  0.259104  0.067828  0.111568  0.091280  ...  323.757739   \n",
       "train00002.aiff  0.104971  0.107934  0.113314  0.110579  ...   13.960107   \n",
       "train00003.aiff  0.053550  0.099153  0.097915  0.093418  ...   25.414674   \n",
       "train00004.aiff  0.102598  0.103876  0.099584  0.096484  ...  127.593808   \n",
       "train00005.aiff  0.163441  0.138776  0.047680  0.044006  ...  818.349811   \n",
       "\n",
       "                       3531        3532        3533        3534       3535  \\\n",
       "train00001.aiff  177.865058   69.035604  236.470513   95.348852  45.818186   \n",
       "train00002.aiff    6.620344    1.826725   12.591117   23.735274  22.399912   \n",
       "train00003.aiff   54.308283   50.471178   39.791219   20.454269  60.480539   \n",
       "train00004.aiff  154.603321  189.184693   44.923291    0.157068   6.241901   \n",
       "train00005.aiff  638.316169  255.905318  223.662617  167.522139  47.816370   \n",
       "\n",
       "                       3536        3537       3538        3539  \n",
       "train00001.aiff   62.494202   58.682033  27.582614   13.677962  \n",
       "train00002.aiff    9.117025   12.191837  16.824196    0.404101  \n",
       "train00003.aiff  150.188974  100.698584  27.933017   51.114037  \n",
       "train00004.aiff   35.208415   66.001433   2.440332  119.455716  \n",
       "train00005.aiff    2.397212   14.882543  99.071426   27.578218  \n",
       "\n",
       "[5 rows x 3540 columns]"
      ]
     },
     "execution_count": 28,
     "metadata": {},
     "output_type": "execute_result"
    }
   ],
   "source": [
    "X.head(5)"
   ]
  },
  {
   "cell_type": "code",
   "execution_count": 29,
   "metadata": {
    "id": "5F2Fd9hUy7wW"
   },
   "outputs": [],
   "source": [
    "# we do not need these objects anymore so let's release them from memory\n",
    "del feature_dict\n",
    "del spec_dict"
   ]
  },
  {
   "cell_type": "code",
   "execution_count": 30,
   "metadata": {
    "id": "u9ue9WtOy7wY"
   },
   "outputs": [],
   "source": [
    "# let's save these variables for reuse\n",
    "np.save('X.npy',X)\n",
    "np.save('y.npy',np.array(labels['label'][X.index])[:N])"
   ]
  },
  {
   "cell_type": "markdown",
   "metadata": {
    "id": "mfAkIStBy7wb"
   },
   "source": [
    "### References:\n",
    "\n",
    "https://www.kaggle.com/c/whale-detection-challenge\n",
    "\n",
    "https://github.com/jaimeps/whale-sound-classification"
   ]
  }
 ],
 "metadata": {
  "anaconda-cloud": {},
  "celltoolbar": "Slideshow",
  "colab": {
   "collapsed_sections": [],
   "name": "1_feature_extraction_colab.ipynb",
   "provenance": [],
   "toc_visible": true
  },
  "kernelspec": {
   "display_name": "Python 3 (ipykernel)",
   "language": "python",
   "name": "python3"
  },
  "language_info": {
   "codemirror_mode": {
    "name": "ipython",
    "version": 3
   },
   "file_extension": ".py",
   "mimetype": "text/x-python",
   "name": "python",
   "nbconvert_exporter": "python",
   "pygments_lexer": "ipython3",
   "version": "3.9.13"
  }
 },
 "nbformat": 4,
 "nbformat_minor": 4
}
