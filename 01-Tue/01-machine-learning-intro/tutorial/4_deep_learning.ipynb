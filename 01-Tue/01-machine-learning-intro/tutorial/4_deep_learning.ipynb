{
 "cells": [
  {
   "cell_type": "markdown",
   "metadata": {
    "id": "Q6-IpZACiakj"
   },
   "source": [
    "### 1-D Convolutional Neural Networks with Keras"
   ]
  },
  {
   "cell_type": "markdown",
   "metadata": {
    "id": "08jbqiPXiakl"
   },
   "source": [
    "In this notebook we show how to run a simple deep learning model to classify whale calls. We use the [keras](https://keras.io/) library. We will use a convolutional neural networks, since they are robust to temporal and spatial shifts. Although it is common to use 2D convolutional neural networks when working with spectrogram, we will use a 1D on the time series, as this can be applied to other time series classification problems. But instead of raw data, we will use the power spectrum profile of each signal and we hope that they will be sufficiently different for signals which contain right whale calls."
   ]
  },
  {
   "cell_type": "code",
   "execution_count": 1,
   "metadata": {
    "id": "kiORR0OYiakl"
   },
   "outputs": [],
   "source": [
    "# ignore warnings\n",
    "import warnings\n",
    "warnings.filterwarnings(\"ignore\")"
   ]
  },
  {
   "cell_type": "code",
   "execution_count": 2,
   "metadata": {
    "id": "vLaySezSiakm"
   },
   "outputs": [],
   "source": [
    "# importing multiple visualization libraries\n",
    "%matplotlib inline\n",
    "\n",
    "import numpy as np\n",
    "import pandas as pd\n",
    "import matplotlib.pyplot as plt\n",
    "from matplotlib import mlab\n",
    "import pylab as pl\n",
    "import seaborn as sns"
   ]
  },
  {
   "cell_type": "code",
   "execution_count": 3,
   "metadata": {
    "id": "9orKDYW8iakm"
   },
   "outputs": [],
   "source": [
    "# importing libraries to manipulate the data files\n",
    "import os\n",
    "from glob import glob"
   ]
  },
  {
   "cell_type": "code",
   "execution_count": 4,
   "metadata": {
    "id": "NBHXufHXiakn"
   },
   "outputs": [],
   "source": [
    "# import a library to read the .aiff sound format\n",
    "import aifc"
   ]
  },
  {
   "cell_type": "code",
   "execution_count": 5,
   "metadata": {
    "colab": {
     "base_uri": "https://localhost:8080/"
    },
    "id": "enwiOUDflxwr",
    "outputId": "ed0c4881-c388-4dd6-a784-4d394a5497bf"
   },
   "outputs": [
    {
     "name": "stdout",
     "output_type": "stream",
     "text": [
      "Defaulting to user installation because normal site-packages is not writeable\n",
      "Requirement already satisfied: gdown in /home/jovyan/.local/lib/python3.9/site-packages (4.5.1)\n",
      "Requirement already satisfied: six in /opt/conda/lib/python3.9/site-packages (from gdown) (1.16.0)\n",
      "Requirement already satisfied: beautifulsoup4 in /opt/conda/lib/python3.9/site-packages (from gdown) (4.11.1)\n",
      "Requirement already satisfied: filelock in /opt/conda/lib/python3.9/site-packages (from gdown) (3.8.0)\n",
      "Requirement already satisfied: tqdm in /opt/conda/lib/python3.9/site-packages (from gdown) (4.64.0)\n",
      "Requirement already satisfied: requests[socks] in /opt/conda/lib/python3.9/site-packages (from gdown) (2.28.1)\n",
      "Requirement already satisfied: soupsieve>1.2 in /opt/conda/lib/python3.9/site-packages (from beautifulsoup4->gdown) (2.3.2.post1)\n",
      "Requirement already satisfied: idna<4,>=2.5 in /opt/conda/lib/python3.9/site-packages (from requests[socks]->gdown) (3.3)\n",
      "Requirement already satisfied: certifi>=2017.4.17 in /opt/conda/lib/python3.9/site-packages (from requests[socks]->gdown) (2022.6.15)\n",
      "Requirement already satisfied: charset-normalizer<3,>=2 in /opt/conda/lib/python3.9/site-packages (from requests[socks]->gdown) (2.1.0)\n",
      "Requirement already satisfied: urllib3<1.27,>=1.21.1 in /opt/conda/lib/python3.9/site-packages (from requests[socks]->gdown) (1.26.11)\n",
      "Requirement already satisfied: PySocks!=1.5.7,>=1.5.6 in /opt/conda/lib/python3.9/site-packages (from requests[socks]->gdown) (1.7.1)\n",
      "Note: you may need to restart the kernel to use updated packages.\n"
     ]
    }
   ],
   "source": [
    "pip install gdown"
   ]
  },
  {
   "cell_type": "code",
   "execution_count": 6,
   "metadata": {
    "colab": {
     "base_uri": "https://localhost:8080/",
     "height": 104
    },
    "id": "aqCa_ihol2nY",
    "outputId": "809bae7c-e288-499d-d827-af5d49a9f6ef"
   },
   "outputs": [
    {
     "name": "stderr",
     "output_type": "stream",
     "text": [
      "Downloading...\n",
      "From: https://drive.google.com/uc?id=1X4b6ArGJvbWFfe0c7eFGTS0umC2Dns-p\n",
      "To: /home/jovyan/ohw-tutorials/01-Tue/01-machine-learning-intro/tutorial/train.tar.gz\n",
      "100%|██████████| 64.2M/64.2M [00:00<00:00, 195MB/s] \n"
     ]
    },
    {
     "data": {
      "text/plain": [
       "'train.tar.gz'"
      ]
     },
     "execution_count": 6,
     "metadata": {},
     "output_type": "execute_result"
    }
   ],
   "source": [
    "import gdown\n",
    "gdown.download(id=\"1X4b6ArGJvbWFfe0c7eFGTS0umC2Dns-p\")"
   ]
  },
  {
   "cell_type": "code",
   "execution_count": 7,
   "metadata": {
    "colab": {
     "base_uri": "https://localhost:8080/",
     "height": 104
    },
    "id": "bx8LdxSBmCKG",
    "outputId": "5f634fed-7cae-45c2-d32d-d3e51aad6b90"
   },
   "outputs": [
    {
     "name": "stderr",
     "output_type": "stream",
     "text": [
      "Downloading...\n",
      "From: https://drive.google.com/uc?id=1reml8qESFeS4buc_h3wfF9O4M2p30g3e\n",
      "To: /home/jovyan/ohw-tutorials/01-Tue/01-machine-learning-intro/tutorial/labels.csv\n",
      "100%|██████████| 540k/540k [00:00<00:00, 96.4MB/s]\n"
     ]
    },
    {
     "data": {
      "text/plain": [
       "'labels.csv'"
      ]
     },
     "execution_count": 7,
     "metadata": {},
     "output_type": "execute_result"
    }
   ],
   "source": [
    "gdown.download(id=\"1reml8qESFeS4buc_h3wfF9O4M2p30g3e\", quiet=False)"
   ]
  },
  {
   "cell_type": "code",
   "execution_count": 8,
   "metadata": {
    "colab": {
     "base_uri": "https://localhost:8080/"
    },
    "id": "vaPARYe_l82s",
    "outputId": "a3ac21c0-2d9a-42b3-a082-8efa41accdca"
   },
   "outputs": [],
   "source": [
    "!tar xzf train.tar.gz"
   ]
  },
  {
   "cell_type": "markdown",
   "metadata": {
    "id": "ul1-1TVOiakn"
   },
   "source": [
    "**Preparing the Dataset**"
   ]
  },
  {
   "cell_type": "code",
   "execution_count": 9,
   "metadata": {
    "colab": {
     "base_uri": "https://localhost:8080/",
     "height": 104
    },
    "id": "Mx2Wqg14u2R8",
    "outputId": "0759884f-e652-4850-b34a-82acf77d52b2"
   },
   "outputs": [
    {
     "name": "stderr",
     "output_type": "stream",
     "text": [
      "Downloading...\n",
      "From: https://drive.google.com/uc?id=1gQlCjtlEVQzTkthJ5yv0ckKNY0lCusL5\n",
      "To: /home/jovyan/ohw-tutorials/01-Tue/01-machine-learning-intro/tutorial/y.npy\n",
      "100%|██████████| 80.1k/80.1k [00:00<00:00, 52.4MB/s]\n"
     ]
    },
    {
     "data": {
      "text/plain": [
       "'y.npy'"
      ]
     },
     "execution_count": 9,
     "metadata": {},
     "output_type": "execute_result"
    }
   ],
   "source": [
    "# y\n",
    "gdown.download(id=\"1gQlCjtlEVQzTkthJ5yv0ckKNY0lCusL5\", quiet=False)"
   ]
  },
  {
   "cell_type": "code",
   "execution_count": 10,
   "metadata": {
    "id": "CkX_9n8Tiakn"
   },
   "outputs": [],
   "source": [
    "# reading the filenames\n",
    "filenames = sorted(glob(os.path.join('train','*.aiff')))"
   ]
  },
  {
   "cell_type": "code",
   "execution_count": null,
   "metadata": {
    "id": "4tc7y-8Cp_RY"
   },
   "outputs": [],
   "source": []
  },
  {
   "cell_type": "code",
   "execution_count": 11,
   "metadata": {
    "id": "0bLm0AAWiakn"
   },
   "outputs": [],
   "source": [
    "from scipy import signal"
   ]
  },
  {
   "cell_type": "markdown",
   "metadata": {
    "id": "YYTdjmugiako"
   },
   "source": [
    "We want to calculate the power spectrum for each signal (which will be a one dimensional object). We can calculate tit using the [welch filter](https://docs.scipy.org/doc/scipy/reference/generated/scipy.signal.welch.html#scipy.signal.welch) from the `scipy.signal` library."
   ]
  },
  {
   "cell_type": "code",
   "execution_count": 12,
   "metadata": {
    "id": "LJIfWu0ciako"
   },
   "outputs": [],
   "source": [
    "# read signals and apply the welch filter\n",
    "feature_dict = {}\n",
    "fs = 2000\n",
    "for filename in filenames[:10000]:\n",
    "    aiff = aifc.open(filename,'r')\n",
    "    whale_strSig = aiff.readframes(aiff.getnframes())\n",
    "    whale_array = np.fromstring(whale_strSig, np.short).byteswap()\n",
    "    # apply welch filter\n",
    "    feature = 10*np.log10(signal.welch(whale_array, fs=fs, window='hann', nperseg=256, noverlap=128+64)[1])\n",
    "    feature_dict[filename] = feature"
   ]
  },
  {
   "cell_type": "code",
   "execution_count": 37,
   "metadata": {
    "colab": {
     "base_uri": "https://localhost:8080/",
     "height": 312
    },
    "id": "p-N6srA7iako",
    "outputId": "718908c5-2766-4bef-e336-bf8ffec61d68"
   },
   "outputs": [
    {
     "data": {
      "text/plain": [
       "Text(0.5, 0, 'Frequency')"
      ]
     },
     "execution_count": 37,
     "metadata": {},
     "output_type": "execute_result"
    },
    {
     "data": {
      "image/png": "[encoded data removed]",
      "text/plain": [
       "<Figure size 432x288 with 1 Axes>"
      ]
     },
     "metadata": {
      "needs_background": "light"
     },
     "output_type": "display_data"
    }
   ],
   "source": [
    "# plot an example of power spectrum\n",
    "plt.plot(feature_dict['train/train00006.aiff'])\n",
    "plt.title('Power Spectrum for a Right Whale Up-call')\n",
    "plt.ylabel('Power Spectrum')\n",
    "plt.xlabel('Frequency')"
   ]
  },
  {
   "cell_type": "code",
   "execution_count": 14,
   "metadata": {
    "colab": {
     "base_uri": "https://localhost:8080/"
    },
    "id": "nQj9fdTm6p2Q",
    "outputId": "194b2874-f45a-4cc1-b0bf-f4c0d424aede"
   },
   "outputs": [
    {
     "data": {
      "text/plain": [
       "(4000,)"
      ]
     },
     "execution_count": 14,
     "metadata": {},
     "output_type": "execute_result"
    }
   ],
   "source": [
    "whale_array.shape"
   ]
  },
  {
   "cell_type": "code",
   "execution_count": 15,
   "metadata": {
    "id": "SSnQb1rLEAbs"
   },
   "outputs": [],
   "source": [
    "y = np.load('y.npy')"
   ]
  },
  {
   "cell_type": "code",
   "execution_count": 16,
   "metadata": {
    "id": "q-lDCq3_iako"
   },
   "outputs": [],
   "source": [
    "#y = np.array(labels['label'][X.columns])\n",
    "y = y.astype('float32')"
   ]
  },
  {
   "cell_type": "code",
   "execution_count": 17,
   "metadata": {
    "id": "U_snCs4siakp"
   },
   "outputs": [],
   "source": [
    "X = pd.DataFrame(feature_dict).T"
   ]
  },
  {
   "cell_type": "markdown",
   "metadata": {
    "id": "J4XRMKaMiakp"
   },
   "source": [
    "**Importing Libraries for Deep Learning on Time Domain Objects**"
   ]
  },
  {
   "cell_type": "code",
   "execution_count": 18,
   "metadata": {
    "id": "NQZHr9liiakp"
   },
   "outputs": [],
   "source": [
    "from tensorflow import keras\n",
    "from tensorflow.keras.models import Sequential\n",
    "from tensorflow.keras.layers import Dense, Dropout, Activation\n",
    "from tensorflow.keras.layers import Conv1D, GlobalAveragePooling1D, MaxPooling1D\n",
    "from tensorflow.keras.optimizers import SGD\n",
    "from tensorflow.keras.layers import BatchNormalization\n",
    "from tensorflow.keras.callbacks import ModelCheckpoint, EarlyStopping, ReduceLROnPlateau, CSVLogger, TensorBoard"
   ]
  },
  {
   "cell_type": "markdown",
   "metadata": {
    "id": "X0mT_iH5iakp"
   },
   "source": [
    "**Training - Validation Dataset Split**"
   ]
  },
  {
   "cell_type": "code",
   "execution_count": 19,
   "metadata": {
    "id": "LEdCxr3Eiakp"
   },
   "outputs": [],
   "source": [
    "from sklearn.model_selection import train_test_split\n",
    "\n",
    "X_train, X_val, y_train, y_val = train_test_split(X, y, test_size=0.20, random_state=2018, shuffle=True)\n",
    "\n",
    "X_train = np.expand_dims(X_train, axis=2)\n",
    "X_val = np.expand_dims(X_val, axis=2)"
   ]
  },
  {
   "cell_type": "markdown",
   "metadata": {
    "id": "GXQjYpL0iakq"
   },
   "source": [
    "**Building the Neural Network**"
   ]
  },
  {
   "cell_type": "code",
   "execution_count": 20,
   "metadata": {
    "id": "doTfMZs2iakq"
   },
   "outputs": [
    {
     "name": "stderr",
     "output_type": "stream",
     "text": [
      "2022-08-16 18:57:58.700842: I tensorflow/core/platform/cpu_feature_guard.cc:193] This TensorFlow binary is optimized with oneAPI Deep Neural Network Library (oneDNN) to use the following CPU instructions in performance-critical operations:  SSE4.1 SSE4.2 AVX AVX2 FMA\n",
      "To enable them in other operations, rebuild TensorFlow with the appropriate compiler flags.\n"
     ]
    }
   ],
   "source": [
    "model = Sequential()\n",
    "\n",
    "model.add(Conv1D(16, 3, activation='relu', input_shape=(129, 1)))\n",
    "model.add(Conv1D(16, 3, activation='relu'))\n",
    "model.add(BatchNormalization())\n",
    "\n",
    "model.add(Conv1D(32, 3, activation='relu'))\n",
    "model.add(Conv1D(32, 3, activation='relu'))\n",
    "model.add(BatchNormalization())\n",
    "\n",
    "model.add(MaxPooling1D(2))\n",
    "model.add(Conv1D(64, 3, activation='relu'))\n",
    "model.add(Conv1D(64, 3, activation='relu'))\n",
    "model.add(BatchNormalization())\n",
    "\n",
    "model.add(MaxPooling1D(2))\n",
    "model.add(Conv1D(128, 3, activation='relu'))\n",
    "model.add(Conv1D(128, 3, activation='relu'))\n",
    "model.add(BatchNormalization())\n",
    "\n",
    "model.add(MaxPooling1D(2))\n",
    "model.add(Conv1D(256, 3, activation='relu'))\n",
    "model.add(Conv1D(256, 3, activation='relu'))\n",
    "model.add(BatchNormalization())\n",
    "model.add(GlobalAveragePooling1D())\n",
    "\n",
    "model.add(Dropout(0.5))\n",
    "model.add(Dense(1, activation='sigmoid'))\n",
    "\n",
    "model.compile(loss='binary_crossentropy',\n",
    "              optimizer=SGD(lr=0.01),\n",
    "              metrics=['accuracy'])"
   ]
  },
  {
   "cell_type": "markdown",
   "metadata": {
    "id": "uoVUgjp7iakq"
   },
   "source": [
    "**Jargon Translation:**\n",
    "\n",
    "|Term| Explanation|\n",
    "|---|---|\n",
    "|Convolutional Layers | layers which are robust to time shifts|\n",
    "|Max Pooling/ Average Pooling |dimension reduction, robustness|\n",
    "|Batch normalization |equalizes the distribution of the batches |\n",
    "|Epochs |1 run of a batch |\n",
    "|Adam Optimizer | an adaptive optimization scheme|\n",
    "|Cross Entropy | cost function|\n",
    "|ReLU | nonlinear activation function| \n",
    "|Batch Size| size of subset to process to update the estimates|\n",
    "|Learning Rate | time step of the optimization algorithm|"
   ]
  },
  {
   "cell_type": "markdown",
   "metadata": {
    "id": "XAJ9HMvviakr"
   },
   "source": [
    "**Visualizing the Computation Graph**"
   ]
  },
  {
   "cell_type": "code",
   "execution_count": 21,
   "metadata": {
    "colab": {
     "base_uri": "https://localhost:8080/",
     "height": 1000
    },
    "id": "K8CsnNOkiakr",
    "outputId": "0ae553a0-f121-4156-8f1f-c3a9a0395015"
   },
   "outputs": [
    {
     "name": "stdout",
     "output_type": "stream",
     "text": [
      "You must install pydot (`pip install pydot`) and install graphviz (see instructions at https://graphviz.gitlab.io/download/) for plot_model/model_to_dot to work.\n"
     ]
    }
   ],
   "source": [
    "from tensorflow.keras.utils import plot_model\n",
    "plot_model(model,to_file='model_plot.png')"
   ]
  },
  {
   "cell_type": "markdown",
   "metadata": {
    "id": "3T_4PGm1iakr"
   },
   "source": [
    "**Model Logging Object**"
   ]
  },
  {
   "cell_type": "code",
   "execution_count": 22,
   "metadata": {
    "id": "QI-k0sXBiakr"
   },
   "outputs": [],
   "source": [
    "model_name = 'deep_1'\n",
    "top_weights_path = 'model_' + str(model_name) + '.h5'\n",
    "\n",
    "callbacks_list = [ModelCheckpoint(top_weights_path, monitor = 'val_accuracy', verbose = 1, save_best_only = True, save_weights_only = True), \n",
    "    EarlyStopping(monitor = 'val_accuracy', patience = 6, verbose = 1),\n",
    "    ReduceLROnPlateau(monitor = 'val_accuracy', factor = 0.1, patience = 3, verbose = 1),\n",
    "    CSVLogger('model_' + str(model_name) + '.log')]"
   ]
  },
  {
   "cell_type": "markdown",
   "metadata": {
    "id": "OevlDb1Fiakr"
   },
   "source": [
    "**Model Training**"
   ]
  },
  {
   "cell_type": "code",
   "execution_count": 23,
   "metadata": {
    "colab": {
     "base_uri": "https://localhost:8080/"
    },
    "id": "4LhmklHKiaks",
    "outputId": "11c4bab6-11c9-4b7d-8c47-0417a6949b0c"
   },
   "outputs": [
    {
     "name": "stdout",
     "output_type": "stream",
     "text": [
      "Epoch 1/100\n",
      "63/63 [==============================] - ETA: 0s - loss: 0.6483 - accuracy: 0.6537\n",
      "Epoch 1: val_accuracy improved from -inf to 0.74850, saving model to model_deep_1.h5\n",
      "63/63 [==============================] - 16s 217ms/step - loss: 0.6483 - accuracy: 0.6537 - val_loss: 0.5934 - val_accuracy: 0.7485 - lr: 0.0100\n",
      "Epoch 2/100\n",
      "63/63 [==============================] - ETA: 0s - loss: 0.5716 - accuracy: 0.7098\n",
      "Epoch 2: val_accuracy did not improve from 0.74850\n",
      "63/63 [==============================] - 13s 201ms/step - loss: 0.5716 - accuracy: 0.7098 - val_loss: 0.5590 - val_accuracy: 0.7485 - lr: 0.0100\n",
      "Epoch 3/100\n",
      "63/63 [==============================] - ETA: 0s - loss: 0.5227 - accuracy: 0.7450\n",
      "Epoch 3: val_accuracy did not improve from 0.74850\n",
      "63/63 [==============================] - 13s 199ms/step - loss: 0.5227 - accuracy: 0.7450 - val_loss: 0.5581 - val_accuracy: 0.7485 - lr: 0.0100\n",
      "Epoch 4/100\n",
      "63/63 [==============================] - ETA: 0s - loss: 0.4850 - accuracy: 0.7686\n",
      "Epoch 4: val_accuracy did not improve from 0.74850\n",
      "\n",
      "Epoch 4: ReduceLROnPlateau reducing learning rate to 0.0009999999776482583.\n",
      "63/63 [==============================] - 13s 202ms/step - loss: 0.4850 - accuracy: 0.7686 - val_loss: 0.5588 - val_accuracy: 0.7485 - lr: 0.0100\n",
      "Epoch 5/100\n",
      "63/63 [==============================] - ETA: 0s - loss: 0.4677 - accuracy: 0.7788\n",
      "Epoch 5: val_accuracy did not improve from 0.74850\n",
      "63/63 [==============================] - 13s 207ms/step - loss: 0.4677 - accuracy: 0.7788 - val_loss: 0.5329 - val_accuracy: 0.7485 - lr: 1.0000e-03\n",
      "Epoch 6/100\n",
      "63/63 [==============================] - ETA: 0s - loss: 0.4563 - accuracy: 0.7816\n",
      "Epoch 6: val_accuracy improved from 0.74850 to 0.74900, saving model to model_deep_1.h5\n",
      "63/63 [==============================] - 14s 222ms/step - loss: 0.4563 - accuracy: 0.7816 - val_loss: 0.5042 - val_accuracy: 0.7490 - lr: 1.0000e-03\n",
      "Epoch 7/100\n",
      "63/63 [==============================] - ETA: 0s - loss: 0.4553 - accuracy: 0.7862\n",
      "Epoch 7: val_accuracy improved from 0.74900 to 0.75600, saving model to model_deep_1.h5\n",
      "63/63 [==============================] - 13s 207ms/step - loss: 0.4553 - accuracy: 0.7862 - val_loss: 0.4668 - val_accuracy: 0.7560 - lr: 1.0000e-03\n",
      "Epoch 8/100\n",
      "63/63 [==============================] - ETA: 0s - loss: 0.4497 - accuracy: 0.7860\n",
      "Epoch 8: val_accuracy improved from 0.75600 to 0.77900, saving model to model_deep_1.h5\n",
      "63/63 [==============================] - 13s 205ms/step - loss: 0.4497 - accuracy: 0.7860 - val_loss: 0.4465 - val_accuracy: 0.7790 - lr: 1.0000e-03\n",
      "Epoch 9/100\n",
      "63/63 [==============================] - ETA: 0s - loss: 0.4443 - accuracy: 0.7895\n",
      "Epoch 9: val_accuracy improved from 0.77900 to 0.79300, saving model to model_deep_1.h5\n",
      "63/63 [==============================] - 13s 205ms/step - loss: 0.4443 - accuracy: 0.7895 - val_loss: 0.4359 - val_accuracy: 0.7930 - lr: 1.0000e-03\n",
      "Epoch 10/100\n",
      "63/63 [==============================] - ETA: 0s - loss: 0.4427 - accuracy: 0.7900\n",
      "Epoch 10: val_accuracy improved from 0.79300 to 0.80150, saving model to model_deep_1.h5\n",
      "63/63 [==============================] - 13s 207ms/step - loss: 0.4427 - accuracy: 0.7900 - val_loss: 0.4304 - val_accuracy: 0.8015 - lr: 1.0000e-03\n",
      "Epoch 11/100\n",
      "63/63 [==============================] - ETA: 0s - loss: 0.4402 - accuracy: 0.7913\n",
      "Epoch 11: val_accuracy improved from 0.80150 to 0.80700, saving model to model_deep_1.h5\n",
      "63/63 [==============================] - 14s 216ms/step - loss: 0.4402 - accuracy: 0.7913 - val_loss: 0.4268 - val_accuracy: 0.8070 - lr: 1.0000e-03\n",
      "Epoch 12/100\n",
      "63/63 [==============================] - ETA: 0s - loss: 0.4407 - accuracy: 0.7946\n",
      "Epoch 12: val_accuracy did not improve from 0.80700\n",
      "63/63 [==============================] - 13s 208ms/step - loss: 0.4407 - accuracy: 0.7946 - val_loss: 0.4236 - val_accuracy: 0.8050 - lr: 1.0000e-03\n",
      "Epoch 13/100\n",
      "63/63 [==============================] - ETA: 0s - loss: 0.4366 - accuracy: 0.7960\n",
      "Epoch 13: val_accuracy did not improve from 0.80700\n",
      "63/63 [==============================] - 13s 213ms/step - loss: 0.4366 - accuracy: 0.7960 - val_loss: 0.4285 - val_accuracy: 0.8015 - lr: 1.0000e-03\n",
      "Epoch 14/100\n",
      "63/63 [==============================] - ETA: 0s - loss: 0.4316 - accuracy: 0.7992\n",
      "Epoch 14: val_accuracy did not improve from 0.80700\n",
      "\n",
      "Epoch 14: ReduceLROnPlateau reducing learning rate to 9.999999310821295e-05.\n",
      "63/63 [==============================] - 13s 210ms/step - loss: 0.4316 - accuracy: 0.7992 - val_loss: 0.4239 - val_accuracy: 0.8025 - lr: 1.0000e-03\n",
      "Epoch 15/100\n",
      "63/63 [==============================] - ETA: 0s - loss: 0.4339 - accuracy: 0.8010\n",
      "Epoch 15: val_accuracy did not improve from 0.80700\n",
      "63/63 [==============================] - 13s 207ms/step - loss: 0.4339 - accuracy: 0.8010 - val_loss: 0.4237 - val_accuracy: 0.8050 - lr: 1.0000e-04\n",
      "Epoch 16/100\n",
      "63/63 [==============================] - ETA: 0s - loss: 0.4309 - accuracy: 0.8052\n",
      "Epoch 16: val_accuracy did not improve from 0.80700\n",
      "63/63 [==============================] - 14s 218ms/step - loss: 0.4309 - accuracy: 0.8052 - val_loss: 0.4240 - val_accuracy: 0.8060 - lr: 1.0000e-04\n",
      "Epoch 17/100\n",
      "63/63 [==============================] - ETA: 0s - loss: 0.4327 - accuracy: 0.7996\n",
      "Epoch 17: val_accuracy did not improve from 0.80700\n",
      "\n",
      "Epoch 17: ReduceLROnPlateau reducing learning rate to 9.999999019782991e-06.\n",
      "63/63 [==============================] - 13s 203ms/step - loss: 0.4327 - accuracy: 0.7996 - val_loss: 0.4231 - val_accuracy: 0.8050 - lr: 1.0000e-04\n",
      "Epoch 17: early stopping\n",
      "CPU times: user 6min 43s, sys: 32.4 s, total: 7min 16s\n",
      "Wall time: 3min 44s\n"
     ]
    }
   ],
   "source": [
    "%%time\n",
    "# Fitting the Model(this will take loooooooong time, if run on CPU)\n",
    "history = model.fit(X_train, y_train, batch_size=128, epochs=100, validation_data = [X_val, y_val], callbacks = callbacks_list)"
   ]
  },
  {
   "cell_type": "markdown",
   "metadata": {
    "id": "S_9woZ0uiaks"
   },
   "source": [
    "**Evaluation**"
   ]
  },
  {
   "cell_type": "code",
   "execution_count": 24,
   "metadata": {
    "colab": {
     "base_uri": "https://localhost:8080/"
    },
    "id": "fmqQ_PhDiaks",
    "outputId": "41d8c5b0-d4b7-4101-ad68-a75facc9b123"
   },
   "outputs": [
    {
     "name": "stdout",
     "output_type": "stream",
     "text": [
      "125/125 [==============================] - 1s 10ms/step - loss: 0.4268 - accuracy: 0.8070\n",
      "Validation accuracy: 0.8069999814033508\n"
     ]
    }
   ],
   "source": [
    "model.load_weights(top_weights_path)\n",
    "loss, acc = model.evaluate(X_val, y_val, batch_size=16)\n",
    "print('Validation accuracy:', acc)"
   ]
  },
  {
   "cell_type": "code",
   "execution_count": 25,
   "metadata": {
    "id": "PQQCir1riaks"
   },
   "outputs": [
    {
     "name": "stdout",
     "output_type": "stream",
     "text": [
      "63/63 [==============================] - 1s 16ms/step\n",
      "63/63 [==============================] - 1s 17ms/step\n"
     ]
    }
   ],
   "source": [
    "# prediction and prediction scores\n",
    "y_pred = np.array((model.predict(X_val)>0.5).astype('int32'))\n",
    "y_score = model.predict(X_val)"
   ]
  },
  {
   "cell_type": "code",
   "execution_count": 26,
   "metadata": {
    "colab": {
     "base_uri": "https://localhost:8080/"
    },
    "id": "bpPM4vOniaks",
    "outputId": "0747e86c-f1a1-4ff3-92ff-4ca86231137c"
   },
   "outputs": [
    {
     "name": "stdout",
     "output_type": "stream",
     "text": [
      "Validation precision: [0.65517241]\n"
     ]
    }
   ],
   "source": [
    "# precision\n",
    "print('Validation precision:', sum(y_pred[y_val == 1]>0)/sum(y_pred == 1))"
   ]
  },
  {
   "cell_type": "code",
   "execution_count": 27,
   "metadata": {
    "colab": {
     "base_uri": "https://localhost:8080/"
    },
    "id": "_pV1axSsiaks",
    "outputId": "3ba40264-d5f3-4d14-b12d-1b17c55733f2"
   },
   "outputs": [
    {
     "name": "stdout",
     "output_type": "stream",
     "text": [
      "Validation recall: [0.49105368]\n"
     ]
    }
   ],
   "source": [
    "# recall\n",
    "print('Validation recall:', sum(y_pred[y_val == 1]>0)/sum(y_val == 1))"
   ]
  },
  {
   "cell_type": "code",
   "execution_count": 28,
   "metadata": {
    "colab": {
     "base_uri": "https://localhost:8080/",
     "height": 328
    },
    "id": "vwMrP5E2iaks",
    "outputId": "5c0cfa98-ae35-4a11-e70d-f89f4870a5f4"
   },
   "outputs": [
    {
     "data": {
      "text/plain": [
       "Text(0.5, 14.09375, 'Predicted label')"
      ]
     },
     "execution_count": 28,
     "metadata": {},
     "output_type": "execute_result"
    },
    {
     "data": {
      "image/png": "[encoded data removed]",
      "text/plain": [
       "<Figure size 360x288 with 2 Axes>"
      ]
     },
     "metadata": {
      "needs_background": "light"
     },
     "output_type": "display_data"
    }
   ],
   "source": [
    "# confusion matrix\n",
    "from sklearn.metrics import confusion_matrix, accuracy_score\n",
    "cm = confusion_matrix(y_val,y_pred)\n",
    "# Transform to df for easier plotting\n",
    "cm_df = pd.DataFrame(cm,\n",
    "                     index = ['No_Upcall','Upcall'], \n",
    "                     columns = ['No_Upcall','Upcall'])\n",
    "\n",
    "plt.figure(figsize=(5,4))\n",
    "sns.heatmap(cm_df, annot=True, fmt='g')\n",
    "plt.title('\\nAccuracy:{0:.3f}'.format(accuracy_score(y_val, y_pred)))\n",
    "plt.ylabel('True label')\n",
    "plt.xlabel('Predicted label')"
   ]
  },
  {
   "cell_type": "code",
   "execution_count": 29,
   "metadata": {
    "colab": {
     "base_uri": "https://localhost:8080/",
     "height": 295
    },
    "id": "XzZbLjTviakt",
    "outputId": "89fcf81a-9ab1-4bbc-9832-fd30a89d60d0"
   },
   "outputs": [
    {
     "data": {
      "image/png": "[encoded data removed]",
      "text/plain": [
       "<Figure size 432x288 with 1 Axes>"
      ]
     },
     "metadata": {
      "needs_background": "light"
     },
     "output_type": "display_data"
    }
   ],
   "source": [
    "# Model Loss\n",
    "plt.plot(history.history['loss'])\n",
    "plt.plot(history.history['val_loss'])\n",
    "plt.title('Model loss')\n",
    "plt.ylabel('Loss')\n",
    "plt.xlabel('Epoch')\n",
    "plt.legend(['Train', 'Validation'], loc='upper left')\n",
    "plt.show()"
   ]
  },
  {
   "cell_type": "code",
   "execution_count": 32,
   "metadata": {
    "colab": {
     "base_uri": "https://localhost:8080/",
     "height": 235
    },
    "id": "1HD-O-dFiakt",
    "outputId": "24df6c81-6c9b-42a3-ec4f-f4ef46c423ba"
   },
   "outputs": [
    {
     "data": {
      "image/png": "[encoded data removed]",
      "text/plain": [
       "<Figure size 432x288 with 1 Axes>"
      ]
     },
     "metadata": {
      "needs_background": "light"
     },
     "output_type": "display_data"
    }
   ],
   "source": [
    "# Prediction Accuracy\n",
    "plt.plot(history.history['accuracy'])\n",
    "plt.plot(history.history['val_accuracy'])\n",
    "plt.title('Prediction Accuracy')\n",
    "plt.ylabel('Accuracy')\n",
    "plt.xlabel('Epoch')\n",
    "plt.legend(['Train', 'Validation'], loc='upper left')\n",
    "plt.show()"
   ]
  },
  {
   "cell_type": "code",
   "execution_count": 33,
   "metadata": {
    "id": "VjwWoQVviakt"
   },
   "outputs": [],
   "source": [
    "# Accuracy\n",
    "from sklearn.metrics import average_precision_score, roc_auc_score, roc_curve \n",
    "roc_auc = roc_auc_score(y_val.astype('int'), y_score)\n",
    "fpr, tpr, _ = roc_curve(y_val, y_score)"
   ]
  },
  {
   "cell_type": "code",
   "execution_count": 34,
   "metadata": {
    "id": "I-NFa9Saiakt"
   },
   "outputs": [
    {
     "data": {
      "text/plain": [
       "<matplotlib.legend.Legend at 0x7f6fef8d49a0>"
      ]
     },
     "execution_count": 34,
     "metadata": {},
     "output_type": "execute_result"
    },
    {
     "data": {
      "image/png": "[encoded data removed]",
      "text/plain": [
       "<Figure size 432x288 with 1 Axes>"
      ]
     },
     "metadata": {
      "needs_background": "light"
     },
     "output_type": "display_data"
    }
   ],
   "source": [
    "# Plotting Accuracy\n",
    "lw = 2\n",
    "plt.plot(fpr, tpr, color='darkorange',\n",
    "         lw=lw, label='ROC curve (area = %0.2f)' % roc_auc)\n",
    "plt.plot([0, 1], [0, 1], color='navy', lw=lw, linestyle='--')\n",
    "plt.xlim([0.0, 1.0])\n",
    "plt.ylim([0.0, 1.05])\n",
    "plt.xlabel('False Positive Rate\\n predicted upcall when no upcall')\n",
    "plt.ylabel('True Positive Rate\\n predicted upcall when upcall')\n",
    "plt.title('Receiver operating characteristic')\n",
    "plt.legend(loc=\"lower right\")"
   ]
  },
  {
   "cell_type": "code",
   "execution_count": 35,
   "metadata": {
    "id": "yy1ipvfpiakt"
   },
   "outputs": [
    {
     "name": "stdout",
     "output_type": "stream",
     "text": [
      "Average precision-recall score: 0.63\n"
     ]
    }
   ],
   "source": [
    "# Precision Recall\n",
    "from sklearn.metrics import average_precision_score\n",
    "average_precision = average_precision_score(y_val.astype('int'), y_score)\n",
    "print('Average precision-recall score: {0:0.2f}'.format(\n",
    "      average_precision))"
   ]
  },
  {
   "cell_type": "code",
   "execution_count": null,
   "metadata": {
    "id": "fI1yKS8Oiakt"
   },
   "outputs": [],
   "source": []
  },
  {
   "cell_type": "code",
   "execution_count": 36,
   "metadata": {
    "id": "1gVNTRGNiaku"
   },
   "outputs": [
    {
     "data": {
      "text/plain": [
       "Text(0.5, 1.0, '2-class Precision-Recall curve: AP=0.63')"
      ]
     },
     "execution_count": 36,
     "metadata": {},
     "output_type": "execute_result"
    },
    {
     "data": {
      "image/png": "[encoded data removed]",
      "text/plain": [
       "<Figure size 432x288 with 1 Axes>"
      ]
     },
     "metadata": {
      "needs_background": "light"
     },
     "output_type": "display_data"
    }
   ],
   "source": [
    "# Plotting Prediction and Recall\n",
    "from sklearn.metrics import precision_recall_curve\n",
    "import matplotlib.pyplot as plt\n",
    "\n",
    "precision, recall, _ = precision_recall_curve(y_val.astype('int'), y_score)\n",
    "\n",
    "plt.step(recall, precision, color='b', alpha=0.2,\n",
    "         where='post')\n",
    "plt.fill_between(recall, precision, step='post', alpha=0.2,\n",
    "                 color='b')\n",
    "\n",
    "plt.xlabel('Recall')\n",
    "plt.ylabel('Precision')\n",
    "plt.ylim([0.0, 1.05])\n",
    "plt.xlim([0.0, 1.0])\n",
    "plt.title('2-class Precision-Recall curve: AP={0:0.2f}'.format(\n",
    "          average_precision))"
   ]
  },
  {
   "cell_type": "markdown",
   "metadata": {
    "id": "lZ1MpELFiaku"
   },
   "source": [
    "**More:** \n",
    "\n",
    "* Data Augmentation: [Image Data Generators](https://keras.io/preprocessing/image/) \n",
    "* Transfer Learning: [blog](https://towardsdatascience.com/a-comprehensive-hands-on-guide-to-transfer-learning-with-real-world-applications-in-deep-learning-212bf3b2f27a), [example](https://www.kaggle.com/valcoder/whalesounds-dl-2d/)\n",
    "* 2D Convolutional Networks"
   ]
  },
  {
   "cell_type": "markdown",
   "metadata": {
    "id": "scOnAM6Oiaku"
   },
   "source": [
    "**References:**\n",
    "\n",
    "[Deep Learning Glossary](http://www.wildml.com/deep-learning-glossary/)\n",
    "\n",
    "[Keras and NN Tutorial](https://indico.cern.ch/event/506145/contributions/2132944/attachments/1258124/1858154/NNinKeras_MPaganini.pdf)\n",
    "\n",
    "[Keras Cheatsheet](https://s3.amazonaws.com/assets.datacamp.com/blog_assets/Keras_Cheat_Sheet_Python.pdf)\n",
    "\n",
    "Free GPU usage: [Google Colaboratory notebooks](https://colab.research.google.com/notebooks/welcome.ipynb#recent=true) & [Kaggle Kernels](https://www.kaggle.com/kernels)."
   ]
  },
  {
   "cell_type": "markdown",
   "metadata": {
    "id": "CZ9ML_cPiaku"
   },
   "source": [
    "Monitoring Performance: [TensorBoard](https://www.tensorflow.org/guide/summaries_and_tensorboard), [TensorWatch](https://github.com/microsoft/tensorwatch/blob/master/README.md)"
   ]
  }
 ],
 "metadata": {
  "accelerator": "GPU",
  "colab": {
   "collapsed_sections": [],
   "name": "4-deep-learning.ipynb",
   "provenance": []
  },
  "gpuClass": "standard",
  "kernelspec": {
   "display_name": "Python 3 (ipykernel)",
   "language": "python",
   "name": "python3"
  },
  "language_info": {
   "codemirror_mode": {
    "name": "ipython",
    "version": 3
   },
   "file_extension": ".py",
   "mimetype": "text/x-python",
   "name": "python",
   "nbconvert_exporter": "python",
   "pygments_lexer": "ipython3",
   "version": "3.9.13"
  }
 },
 "nbformat": 4,
 "nbformat_minor": 4
}
